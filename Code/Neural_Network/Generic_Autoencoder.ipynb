{
 "cells": [
  {
   "cell_type": "code",
   "execution_count": 1,
   "metadata": {},
   "outputs": [
    {
     "name": "stderr",
     "output_type": "stream",
     "text": [
      "Using TensorFlow backend.\n"
     ]
    }
   ],
   "source": [
    "%matplotlib inline\n",
    "\n",
    "import os\n",
    "import sys\n",
    "\n",
    "try:\n",
    "    current_path=os.path.dirname(os.path.realpath(__file__))\n",
    "except NameError:\n",
    "    current_path=os.getcwd()\n",
    "\n",
    "for i in range(3):\n",
    "    sys.path.append(current_path)\n",
    "    current_path=os.path.dirname(current_path)\n",
    "\n",
    "from param_global import *\n",
    "sys.path.append(pre_processing_path)\n",
    "from Read_Preprocess_data import data,plot_images\n",
    "import random"
   ]
  },
  {
   "cell_type": "code",
   "execution_count": 2,
   "metadata": {
    "collapsed": true
   },
   "outputs": [],
   "source": [
    "with open(os.path.join(sample_data_path,'sample_data_object.p'), 'rb') as handle:\n",
    "    sample_data_object=pickle.load(handle)\n"
   ]
  },
  {
   "cell_type": "code",
   "execution_count": 37,
   "metadata": {
    "collapsed": true
   },
   "outputs": [],
   "source": [
    "def get_g_Data_for_Autoencoder(data_object):\n",
    "    X_list=[(data_object[index].g_image_resized_reshaped)/data_object[index].g_image_resized_reshaped.max() for index in range(len(data_object))]\n",
    "    return np.asarray(X_list),np.asarray(X_list)"
   ]
  },
  {
   "cell_type": "code",
   "execution_count": 38,
   "metadata": {
    "collapsed": true
   },
   "outputs": [],
   "source": [
    "X,y=get_g_Data_for_Autoencoder(sample_data_object)"
   ]
  },
  {
   "cell_type": "code",
   "execution_count": 53,
   "metadata": {},
   "outputs": [
    {
     "name": "stdout",
     "output_type": "stream",
     "text": [
      "1st Convolutional layer shape (?, 128, 128, 16)\n",
      "1st Maxpooling layer shape (?, 64, 64, 16)\n",
      "2nd Convolutional layer shape (?, 64, 64, 8)\n",
      "2nd Maxpooling layer shape (?, 32, 32, 8)\n",
      "3rd Convolutional layer shape (?, 32, 32, 8)\n",
      "Encoding layer shape (?, 32, 32, 8)\n"
     ]
    }
   ],
   "source": [
    "# Keras model\n",
    "from keras.layers import Input, Dense, Conv2D, MaxPooling2D, UpSampling2D\n",
    "from keras.models import Model\n",
    "from keras import backend as K\n",
    "\n",
    "input_img = Input(shape=(128, 128, 1))  # adapt this if using `channels_first` image data format\n",
    "\n",
    "x = Conv2D(16, (3, 3), activation='relu', padding='same')(input_img)\n",
    "print(\"1st Convolutional layer shape\",x.shape)\n",
    "x = MaxPooling2D((2, 2), padding='same')(x)\n",
    "print(\"1st Maxpooling layer shape\",x.shape)\n",
    "x = Conv2D(8, (3, 3), activation='relu', padding='same')(x)\n",
    "print(\"2nd Convolutional layer shape\",x.shape)\n",
    "x = MaxPooling2D((2, 2), padding='same')(x)\n",
    "print(\"2nd Maxpooling layer shape\",x.shape)\n",
    "x = Conv2D(8, (3, 3), activation='relu', padding='same')(x)\n",
    "print(\"3rd Convolutional layer shape\",x.shape)\n",
    "encoded = MaxPooling2D((2, 2), padding='same')(x)\n",
    "print(\"Encoding layer shape\",x.shape)\n",
    "\n",
    "# at this point the representation is (4, 4, 8) i.e. 128-dimensional\n",
    "\n",
    "x = Conv2D(8, (3, 3), activation='relu', padding='same')(encoded)\n",
    "x = UpSampling2D((2, 2))(x)\n",
    "x = Conv2D(8, (3, 3), activation='relu', padding='same')(x)\n",
    "x = UpSampling2D((2, 2))(x)\n",
    "x = Conv2D(16, (3, 3), activation='relu', padding='same')(x)\n",
    "x = UpSampling2D((2, 2))(x)\n",
    "decoded = Conv2D(1, (3, 3), activation='sigmoid', padding='same')(x)\n",
    "\n",
    "autoencoder = Model(input_img, decoded)\n",
    "autoencoder.compile(optimizer='adadelta', loss='binary_crossentropy')"
   ]
  },
  {
   "cell_type": "code",
   "execution_count": 54,
   "metadata": {
    "collapsed": true
   },
   "outputs": [],
   "source": [
    "X = X.astype('float32')\n",
    "y = y.astype('float32') "
   ]
  },
  {
   "cell_type": "code",
   "execution_count": 55,
   "metadata": {
    "collapsed": true
   },
   "outputs": [],
   "source": [
    "X_train=X[0:int(len(X)*2/3)]\n",
    "X_test=X[int(len(X)*2/3):]"
   ]
  },
  {
   "cell_type": "code",
   "execution_count": 56,
   "metadata": {
    "scrolled": true
   },
   "outputs": [
    {
     "name": "stdout",
     "output_type": "stream",
     "text": [
      "Train on 35 samples, validate on 18 samples\n",
      "Epoch 1/30\n",
      "35/35 [==============================] - 1s - loss: 0.6912 - val_loss: 0.6871\n",
      "Epoch 2/30\n",
      "35/35 [==============================] - 1s - loss: 0.6840 - val_loss: 0.6748\n",
      "Epoch 3/30\n",
      "35/35 [==============================] - 0s - loss: 0.6650 - val_loss: 0.6276\n",
      "Epoch 4/30\n",
      "35/35 [==============================] - 1s - loss: 0.5673 - val_loss: 0.3006\n",
      "Epoch 5/30\n",
      "35/35 [==============================] - 0s - loss: 0.1627 - val_loss: 0.0559\n",
      "Epoch 6/30\n",
      "35/35 [==============================] - 1s - loss: 0.0612 - val_loss: 0.0502\n",
      "Epoch 7/30\n",
      "35/35 [==============================] - 0s - loss: 0.0559 - val_loss: 0.0468\n",
      "Epoch 8/30\n",
      "35/35 [==============================] - 1s - loss: 0.0518 - val_loss: 0.0446\n",
      "Epoch 9/30\n",
      "35/35 [==============================] - 0s - loss: 0.0495 - val_loss: 0.0430\n",
      "Epoch 10/30\n",
      "35/35 [==============================] - 0s - loss: 0.0479 - val_loss: 0.0419\n",
      "Epoch 11/30\n",
      "35/35 [==============================] - 0s - loss: 0.0466 - val_loss: 0.0407\n",
      "Epoch 12/30\n",
      "35/35 [==============================] - 1s - loss: 0.0455 - val_loss: 0.0398\n",
      "Epoch 13/30\n",
      "35/35 [==============================] - 1s - loss: 0.0445 - val_loss: 0.0391\n",
      "Epoch 14/30\n",
      "35/35 [==============================] - 1s - loss: 0.0437 - val_loss: 0.0384\n",
      "Epoch 15/30\n",
      "35/35 [==============================] - 0s - loss: 0.0426 - val_loss: 0.0375\n",
      "Epoch 16/30\n",
      "35/35 [==============================] - 0s - loss: 0.0418 - val_loss: 0.0367\n",
      "Epoch 17/30\n",
      "35/35 [==============================] - 0s - loss: 0.0412 - val_loss: 0.0359\n",
      "Epoch 18/30\n",
      "35/35 [==============================] - 1s - loss: 0.0400 - val_loss: 0.0349\n",
      "Epoch 19/30\n",
      "35/35 [==============================] - 1s - loss: 0.0390 - val_loss: 0.0343\n",
      "Epoch 20/30\n",
      "35/35 [==============================] - 0s - loss: 0.0381 - val_loss: 0.0334\n",
      "Epoch 21/30\n",
      "35/35 [==============================] - 0s - loss: 0.0373 - val_loss: 0.0325\n",
      "Epoch 22/30\n",
      "35/35 [==============================] - 0s - loss: 0.0362 - val_loss: 0.0317\n",
      "Epoch 23/30\n",
      "35/35 [==============================] - 1s - loss: 0.0355 - val_loss: 0.0310\n",
      "Epoch 24/30\n",
      "35/35 [==============================] - 1s - loss: 0.0346 - val_loss: 0.0307\n",
      "Epoch 25/30\n",
      "35/35 [==============================] - 1s - loss: 0.0337 - val_loss: 0.0296\n",
      "Epoch 26/30\n",
      "35/35 [==============================] - 1s - loss: 0.0328 - val_loss: 0.0290\n",
      "Epoch 27/30\n",
      "35/35 [==============================] - 0s - loss: 0.0320 - val_loss: 0.0284\n",
      "Epoch 28/30\n",
      "35/35 [==============================] - 0s - loss: 0.0312 - val_loss: 0.0278\n",
      "Epoch 29/30\n",
      "35/35 [==============================] - 1s - loss: 0.0307 - val_loss: 0.0272\n",
      "Epoch 30/30\n",
      "35/35 [==============================] - 0s - loss: 0.0300 - val_loss: 0.0267\n"
     ]
    },
    {
     "data": {
      "text/plain": [
       "<keras.callbacks.History at 0x7f8bb40fd898>"
      ]
     },
     "execution_count": 56,
     "metadata": {},
     "output_type": "execute_result"
    }
   ],
   "source": [
    "autoencoder.fit(X_train, X_train,\n",
    "                epochs=30,\n",
    "                batch_size=10,\n",
    "                shuffle=True,\n",
    "                validation_data=(X_test, X_test))"
   ]
  },
  {
   "cell_type": "code",
   "execution_count": 57,
   "metadata": {
    "collapsed": true
   },
   "outputs": [],
   "source": [
    "decoded_imgs = autoencoder.predict(X_train)"
   ]
  },
  {
   "cell_type": "code",
   "execution_count": 58,
   "metadata": {},
   "outputs": [
    {
     "data": {
      "text/plain": [
       "1.0"
      ]
     },
     "execution_count": 58,
     "metadata": {},
     "output_type": "execute_result"
    }
   ],
   "source": [
    "X_train.max()"
   ]
  },
  {
   "cell_type": "code",
   "execution_count": 68,
   "metadata": {},
   "outputs": [
    {
     "data": {
      "image/png": "[encoded data removed]",
      "text/plain": [
       "<matplotlib.figure.Figure at 0x7f8b7dcdbbe0>"
      ]
     },
     "metadata": {},
     "output_type": "display_data"
    }
   ],
   "source": [
    "plot_images([X_train[10].reshape(decoded_imgs[1].shape[0],decoded_imgs[1].shape[1])])"
   ]
  },
  {
   "cell_type": "code",
   "execution_count": null,
   "metadata": {
    "collapsed": true
   },
   "outputs": [],
   "source": []
  },
  {
   "cell_type": "code",
   "execution_count": 69,
   "metadata": {},
   "outputs": [
    {
     "data": {
      "image/png": "[encoded data removed]",
      "text/plain": [
       "<matplotlib.figure.Figure at 0x7f8b7dcbe358>"
      ]
     },
     "metadata": {},
     "output_type": "display_data"
    }
   ],
   "source": [
    "plot_images([decoded_imgs[10].reshape(decoded_imgs[1].shape[0],decoded_imgs[1].shape[1])])"
   ]
  },
  {
   "cell_type": "code",
   "execution_count": 20,
   "metadata": {},
   "outputs": [
    {
     "data": {
      "image/png": "[encoded data removed]",
      "text/plain": [
       "<matplotlib.figure.Figure at 0x7ff960169f28>"
      ]
     },
     "metadata": {},
     "output_type": "display_data"
    },
    {
     "data": {
      "image/png": "[encoded data removed]",
      "text/plain": [
       "<matplotlib.figure.Figure at 0x7ff96007f828>"
      ]
     },
     "metadata": {},
     "output_type": "display_data"
    }
   ],
   "source": [
    "sample_data_object[20].plot_image()"
   ]
  },
  {
   "cell_type": "code",
   "execution_count": null,
   "metadata": {
    "collapsed": true
   },
   "outputs": [],
   "source": []
  }
 ],
 "metadata": {
  "kernelspec": {
   "display_name": "Python 3",
   "language": "python",
   "name": "python3"
  },
  "language_info": {
   "codemirror_mode": {
    "name": "ipython",
    "version": 3
   },
   "file_extension": ".py",
   "mimetype": "text/x-python",
   "name": "python",
   "nbconvert_exporter": "python",
   "pygments_lexer": "ipython3",
   "version": "3.6.1"
  }
 },
 "nbformat": 4,
 "nbformat_minor": 2
}
