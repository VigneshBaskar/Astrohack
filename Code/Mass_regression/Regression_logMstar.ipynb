{
 "cells": [
  {
   "cell_type": "code",
   "execution_count": 1,
   "metadata": {},
   "outputs": [
    {
     "name": "stderr",
     "output_type": "stream",
     "text": [
      "Using TensorFlow backend.\n"
     ]
    }
   ],
   "source": [
    "import sys\n",
    "import os\n",
    "\n",
    "sys.path.append(\"../Pre_processing\")\n",
    "\n",
    "from Data_Preparation_Library import *\n",
    "from sklearn.preprocessing import StandardScaler\n",
    "from sklearn.preprocessing import MinMaxScaler\n",
    "\n",
    "image_size=128"
   ]
  },
  {
   "cell_type": "code",
   "execution_count": 6,
   "metadata": {},
   "outputs": [],
   "source": [
    "#selectedBatches=[\"6\",\"7\",\"8\",\"9\",\"10\",\"11\",\"12\",\"13\",\"14\",\"15\",\"16\",\"17\",\"18\",\"19\",\"20\"]\n",
    "maxBatchId = 1\n",
    "selectedBatches=[str(i) for i in range(maxBatchId)]\n",
    "\n",
    "extra_folder=\"128_128\"\n",
    "batch_data_object = []\n",
    "for i in selectedBatches:\n",
    "    with open(os.path.join(temp_path,extra_folder,'full_data_object_' + i + '.p'), 'rb') as handle:\n",
    "        batch_data_object+=pickle.load(handle)\n",
    "\n",
    "data_train = batch_data_object[0:int(len(batch_data_object)*2/3)]\n",
    "data_test  = batch_data_object[int(len(batch_data_object)*2/3):]\n",
    "data_test  = batch_data_object[int(len(batch_data_object)*2/3):]"
   ]
  },
  {
   "cell_type": "code",
   "execution_count": 7,
   "metadata": {
    "collapsed": true
   },
   "outputs": [],
   "source": [
    "def flux(d):\n",
    "  # TODO: get flux_i from model\n",
    "    if d.i_image != None:\n",
    "        flux_i = sum(sum(d.i_image))\n",
    "    else:\n",
    "        flux_i = 0\n",
    "    flux_g = sum(sum(d.g_image))\n",
    "    #return flux_i+flux_g, flux_g-flux_i\n",
    "    return flux_g"
   ]
  },
  {
   "cell_type": "code",
   "execution_count": 10,
   "metadata": {},
   "outputs": [],
   "source": [
    "with open(os.path.join(os.path.join(output_path,\"results_128_on_128\"),\"encoder_results_train_v2_0\"),'rb') as handle:\n",
    "    encoded_imgs1=pickle.load(handle)\n",
    "    encoded_imgs_reshaped_train = [e.reshape(-1,1) for e in encoded_imgs1]\n",
    "\n",
    "with open(os.path.join(os.path.join(output_path,\"results_128_on_128\"),\"encoder_results_test_v2_0\"),'rb') as handle:\n",
    "    encoded_imgs2=pickle.load(handle)\n",
    "    encoded_imgs_reshaped_test = [e.reshape(-1,1) for e in encoded_imgs2]\n"
   ]
  },
  {
   "cell_type": "code",
   "execution_count": 11,
   "metadata": {},
   "outputs": [
    {
     "ename": "SyntaxError",
     "evalue": "unexpected EOF while parsing (<ipython-input-11-f89bb59a94fa>, line 3)",
     "output_type": "error",
     "traceback": [
      "\u001b[0;36m  File \u001b[0;32m\"<ipython-input-11-f89bb59a94fa>\"\u001b[0;36m, line \u001b[0;32m3\u001b[0m\n\u001b[0;31m    #  return [v1_i,v2_i,v1_i/v2_i,v2_i/v1_i, v1_g,v2_g,v1_g/v2_g,v2_g/v1_g]\u001b[0m\n\u001b[0m                                                                            ^\u001b[0m\n\u001b[0;31mSyntaxError\u001b[0m\u001b[0;31m:\u001b[0m unexpected EOF while parsing\n"
     ]
    }
   ],
   "source": [
    "def pca_feature(d):\n",
    "    \n",
    "#  return [v1_i,v2_i,v1_i/v2_i,v2_i/v1_i, v1_g,v2_g,v1_g/v2_g,v2_g/v1_g]\n"
   ]
  },
  {
   "cell_type": "code",
   "execution_count": 12,
   "metadata": {},
   "outputs": [
    {
     "name": "stdout",
     "output_type": "stream",
     "text": [
      "(659, 4100) (659,)\n"
     ]
    }
   ],
   "source": [
    "# accessible in the class: size of image, maximum of image, normalization factor of g + fitted value of normalization factor for i\n",
    "# define a function to get the training and testing dataset\n",
    "\n",
    "def obtain_train_data():\n",
    "    train_features = []\n",
    "    train_labels = []\n",
    "    for i in range(len(data_train)):\n",
    "        if data_train[i].logMstar!=-99:\n",
    "            e = encoded_imgs_reshaped_train[i]\n",
    "            d = data_train[i]\n",
    "            #f1,f2 = flux(d)\n",
    "            f = flux(d)\n",
    "            size_1=d.g_image.shape[0]\n",
    "            size_2=d.g_image.shape[1]\n",
    "            img_max=d.g_image.max()\n",
    "            train_features.append(np.append(e,np.array([f,size_1,size_2,img_max])))\n",
    "            train_labels.append(d.logMstar)\n",
    "    return train_features, train_labels\n",
    "\n",
    "train_features = np.asarray(obtain_train_data()[0])\n",
    "train_labels = np.asarray(obtain_train_data()[1])\n",
    "\n",
    "print(train_features.shape, train_labels.shape)"
   ]
  },
  {
   "cell_type": "code",
   "execution_count": 13,
   "metadata": {},
   "outputs": [
    {
     "name": "stdout",
     "output_type": "stream",
     "text": [
      "(325, 4100) (325,)\n"
     ]
    }
   ],
   "source": [
    "def obtain_test_data():\n",
    "    test_features = []\n",
    "    test_labels = []\n",
    "    for j in range(len(data_test)):\n",
    "        if data_test[j].logMstar!=-99:\n",
    "            e = encoded_imgs_reshaped_test[j]\n",
    "            d = data_test[j]\n",
    "\n",
    "        #f1,f2 = flux(d)\n",
    "            f = flux(d)\n",
    "            size_1=d.g_image.shape[0]\n",
    "            size_2=d.g_image.shape[1]\n",
    "            img_max=d.g_image.max()\n",
    "            test_features.append(np.append(e,np.array([f,size_1,size_2,img_max])))\n",
    "            test_labels.append(d.logMstar)\n",
    "\n",
    "    return test_features, test_labels\n",
    "\n",
    "test_features = np.asarray(obtain_test_data()[0])\n",
    "test_labels = np.asarray(obtain_test_data()[1])\n",
    "\n",
    "print(test_features.shape, test_labels.shape)"
   ]
  },
  {
   "cell_type": "code",
   "execution_count": 14,
   "metadata": {},
   "outputs": [
    {
     "name": "stdout",
     "output_type": "stream",
     "text": [
      "[[-0.46823421 -0.5080603   0.02156935 ..., -0.08512842 -0.08512842\n",
      "  -0.31407447]\n",
      " [-0.37778186  0.01002213  0.36101057 ...,  1.97956789  1.97956789\n",
      "  -0.3734218 ]\n",
      " [-0.31466022 -0.04653447  0.02059651 ...,  1.35231838  1.35231838\n",
      "   1.8731427 ]\n",
      " [-0.34544549  0.51801735  0.59461292 ..., -0.45102397 -0.45102397\n",
      "  -0.4427597 ]\n",
      " [ 0.5452832   1.31677986  0.74994534 ..., -0.56863325 -0.56863325\n",
      "  -0.42390013]] [[ 0.15133955 -1.55998065 -0.05018915 ...,  0.01941317  0.01941317\n",
      "  -0.41906929]\n",
      " [-0.31818065  0.05129635  0.23653529 ...,  1.888094    1.888094\n",
      "  -0.11246488]\n",
      " [ 0.8351674   1.77883233  1.02854044 ..., -0.49022706 -0.49022706\n",
      "  -0.44070063]\n",
      " [-0.48722797 -0.36853051  0.03476775 ...,  0.01941317  0.01941317\n",
      "  -0.30787221]\n",
      " [-0.51023902 -1.52314199 -1.47030972 ..., -0.52943016 -0.52943016\n",
      "  -0.42655866]]\n"
     ]
    }
   ],
   "source": [
    "# ## transform features\n",
    "# train_features = StandardScaler().fit_transform(train_features)\n",
    "# test_features = StandardScaler().transform(test_features)\n",
    "# #features = MinMaxScaler().fit_transform(features)\n",
    "\n",
    "X_scaler = StandardScaler()\n",
    "train_features = X_scaler.fit_transform(train_features)\n",
    "test_features = X_scaler.transform(test_features)\n",
    "\n",
    "print(train_features[:5], test_features[:5])"
   ]
  },
  {
   "cell_type": "code",
   "execution_count": 15,
   "metadata": {
    "collapsed": true
   },
   "outputs": [],
   "source": [
    "from keras.models import Sequential\n",
    "from keras.layers import Dense, Activation\n",
    "from keras.layers.core import Dropout"
   ]
  },
  {
   "cell_type": "code",
   "execution_count": 16,
   "metadata": {
    "collapsed": true
   },
   "outputs": [],
   "source": [
    "model = Sequential()\n",
    "model.add(Dense(64, activation='sigmoid', input_dim=train_features.shape[1]))\n",
    "model.add(Dropout(0.1))\n",
    "model.add(Dense(32, activation='sigmoid'))\n",
    "model.add(Dropout(0.1))\n",
    "model.add(Dense(1))\n",
    "model.compile(optimizer='Adadelta',\n",
    "              loss='mse',\n",
    "              metrics=['mse'])"
   ]
  },
  {
   "cell_type": "code",
   "execution_count": 17,
   "metadata": {
    "scrolled": true
   },
   "outputs": [
    {
     "name": "stdout",
     "output_type": "stream",
     "text": [
      "Train on 659 samples, validate on 325 samples\n",
      "Epoch 1/100\n",
      "659/659 [==============================] - 1s - loss: 82.9382 - mean_squared_error: 82.9382 - val_loss: 76.9822 - val_mean_squared_error: 76.9822\n",
      "Epoch 2/100\n",
      "659/659 [==============================] - 0s - loss: 69.6037 - mean_squared_error: 69.6037 - val_loss: 66.1624 - val_mean_squared_error: 66.1624\n",
      "Epoch 3/100\n",
      "659/659 [==============================] - 0s - loss: 59.9456 - mean_squared_error: 59.9456 - val_loss: 57.2448 - val_mean_squared_error: 57.2448\n",
      "Epoch 4/100\n",
      "659/659 [==============================] - 0s - loss: 52.1291 - mean_squared_error: 52.1291 - val_loss: 49.9612 - val_mean_squared_error: 49.9612\n",
      "Epoch 5/100\n",
      "659/659 [==============================] - 0s - loss: 45.0333 - mean_squared_error: 45.0333 - val_loss: 43.7040 - val_mean_squared_error: 43.7040\n",
      "Epoch 6/100\n",
      "659/659 [==============================] - 0s - loss: 39.3512 - mean_squared_error: 39.3512 - val_loss: 38.3976 - val_mean_squared_error: 38.3976\n",
      "Epoch 7/100\n",
      "659/659 [==============================] - 0s - loss: 34.7358 - mean_squared_error: 34.7358 - val_loss: 33.7691 - val_mean_squared_error: 33.7691\n",
      "Epoch 8/100\n",
      "659/659 [==============================] - 0s - loss: 30.1833 - mean_squared_error: 30.1833 - val_loss: 29.7953 - val_mean_squared_error: 29.7953\n",
      "Epoch 9/100\n",
      "659/659 [==============================] - 0s - loss: 26.2822 - mean_squared_error: 26.2822 - val_loss: 26.2469 - val_mean_squared_error: 26.2469\n",
      "Epoch 10/100\n",
      "659/659 [==============================] - 0s - loss: 23.1795 - mean_squared_error: 23.1795 - val_loss: 23.1743 - val_mean_squared_error: 23.1743\n",
      "Epoch 11/100\n",
      "659/659 [==============================] - 0s - loss: 20.2687 - mean_squared_error: 20.2687 - val_loss: 20.4189 - val_mean_squared_error: 20.4189\n",
      "Epoch 12/100\n",
      "659/659 [==============================] - 0s - loss: 17.5308 - mean_squared_error: 17.5308 - val_loss: 17.9788 - val_mean_squared_error: 17.9788\n",
      "Epoch 13/100\n",
      "659/659 [==============================] - 0s - loss: 15.6180 - mean_squared_error: 15.6180 - val_loss: 15.7659 - val_mean_squared_error: 15.7659\n",
      "Epoch 14/100\n",
      "659/659 [==============================] - 0s - loss: 13.4310 - mean_squared_error: 13.4310 - val_loss: 13.8842 - val_mean_squared_error: 13.8842\n",
      "Epoch 15/100\n",
      "659/659 [==============================] - 0s - loss: 12.1657 - mean_squared_error: 12.1657 - val_loss: 12.1224 - val_mean_squared_error: 12.1224\n",
      "Epoch 16/100\n",
      "659/659 [==============================] - 0s - loss: 10.5747 - mean_squared_error: 10.5747 - val_loss: 10.6329 - val_mean_squared_error: 10.6329\n",
      "Epoch 17/100\n",
      "659/659 [==============================] - 0s - loss: 8.9643 - mean_squared_error: 8.9643 - val_loss: 9.2934 - val_mean_squared_error: 9.2934\n",
      "Epoch 18/100\n",
      "659/659 [==============================] - 0s - loss: 7.6054 - mean_squared_error: 7.6054 - val_loss: 8.1219 - val_mean_squared_error: 8.1219\n",
      "Epoch 19/100\n",
      "659/659 [==============================] - 0s - loss: 6.6685 - mean_squared_error: 6.6685 - val_loss: 7.0789 - val_mean_squared_error: 7.0789\n",
      "Epoch 20/100\n",
      "659/659 [==============================] - 0s - loss: 5.8619 - mean_squared_error: 5.8619 - val_loss: 6.1351 - val_mean_squared_error: 6.1351\n",
      "Epoch 21/100\n",
      "659/659 [==============================] - 0s - loss: 4.9245 - mean_squared_error: 4.9245 - val_loss: 5.2523 - val_mean_squared_error: 5.2523\n",
      "Epoch 22/100\n",
      "659/659 [==============================] - 0s - loss: 4.4725 - mean_squared_error: 4.4725 - val_loss: 4.3527 - val_mean_squared_error: 4.3527\n",
      "Epoch 23/100\n",
      "659/659 [==============================] - 0s - loss: 3.6490 - mean_squared_error: 3.6490 - val_loss: 3.5736 - val_mean_squared_error: 3.5736\n",
      "Epoch 24/100\n",
      "659/659 [==============================] - 0s - loss: 2.9597 - mean_squared_error: 2.9597 - val_loss: 2.9345 - val_mean_squared_error: 2.9345\n",
      "Epoch 25/100\n",
      "659/659 [==============================] - 0s - loss: 2.4600 - mean_squared_error: 2.4600 - val_loss: 2.4203 - val_mean_squared_error: 2.4203\n",
      "Epoch 26/100\n",
      "659/659 [==============================] - 0s - loss: 2.1214 - mean_squared_error: 2.1214 - val_loss: 1.9998 - val_mean_squared_error: 1.9998\n",
      "Epoch 27/100\n",
      "659/659 [==============================] - 0s - loss: 1.8217 - mean_squared_error: 1.8217 - val_loss: 1.6505 - val_mean_squared_error: 1.6505\n",
      "Epoch 28/100\n",
      "659/659 [==============================] - 0s - loss: 1.5786 - mean_squared_error: 1.5786 - val_loss: 1.3619 - val_mean_squared_error: 1.3619\n",
      "Epoch 29/100\n",
      "659/659 [==============================] - 0s - loss: 1.4637 - mean_squared_error: 1.4637 - val_loss: 1.1223 - val_mean_squared_error: 1.1223\n",
      "Epoch 30/100\n",
      "659/659 [==============================] - 0s - loss: 1.3962 - mean_squared_error: 1.3962 - val_loss: 0.8972 - val_mean_squared_error: 0.8972\n",
      "Epoch 31/100\n",
      "659/659 [==============================] - 0s - loss: 1.1130 - mean_squared_error: 1.1130 - val_loss: 0.7540 - val_mean_squared_error: 0.7540\n",
      "Epoch 32/100\n",
      "659/659 [==============================] - 0s - loss: 0.9080 - mean_squared_error: 0.9080 - val_loss: 0.6430 - val_mean_squared_error: 0.6430\n",
      "Epoch 33/100\n",
      "659/659 [==============================] - 0s - loss: 0.9517 - mean_squared_error: 0.9517 - val_loss: 0.6000 - val_mean_squared_error: 0.6000\n",
      "Epoch 34/100\n",
      "659/659 [==============================] - 0s - loss: 0.9375 - mean_squared_error: 0.9375 - val_loss: 0.5364 - val_mean_squared_error: 0.5364\n",
      "Epoch 35/100\n",
      "659/659 [==============================] - 0s - loss: 0.9194 - mean_squared_error: 0.9194 - val_loss: 0.5199 - val_mean_squared_error: 0.5199\n",
      "Epoch 36/100\n",
      "659/659 [==============================] - 0s - loss: 0.8256 - mean_squared_error: 0.8256 - val_loss: 0.5225 - val_mean_squared_error: 0.5225\n",
      "Epoch 37/100\n",
      "659/659 [==============================] - 0s - loss: 0.8402 - mean_squared_error: 0.8402 - val_loss: 0.4971 - val_mean_squared_error: 0.4971\n",
      "Epoch 38/100\n",
      "659/659 [==============================] - 0s - loss: 0.8514 - mean_squared_error: 0.8514 - val_loss: 0.4919 - val_mean_squared_error: 0.4919\n",
      "Epoch 39/100\n",
      "659/659 [==============================] - 0s - loss: 0.8222 - mean_squared_error: 0.8222 - val_loss: 0.4744 - val_mean_squared_error: 0.4744\n",
      "Epoch 40/100\n",
      "659/659 [==============================] - 0s - loss: 0.8448 - mean_squared_error: 0.8448 - val_loss: 0.4731 - val_mean_squared_error: 0.4731\n",
      "Epoch 41/100\n",
      "659/659 [==============================] - 0s - loss: 0.8774 - mean_squared_error: 0.8774 - val_loss: 0.4854 - val_mean_squared_error: 0.4854\n",
      "Epoch 42/100\n",
      "659/659 [==============================] - 0s - loss: 0.8271 - mean_squared_error: 0.8271 - val_loss: 0.4866 - val_mean_squared_error: 0.4866\n",
      "Epoch 43/100\n",
      "659/659 [==============================] - 0s - loss: 0.8001 - mean_squared_error: 0.8001 - val_loss: 0.4655 - val_mean_squared_error: 0.4655\n",
      "Epoch 44/100\n",
      "659/659 [==============================] - 0s - loss: 0.7928 - mean_squared_error: 0.7928 - val_loss: 0.4714 - val_mean_squared_error: 0.4714\n",
      "Epoch 45/100\n",
      "659/659 [==============================] - 0s - loss: 0.8546 - mean_squared_error: 0.8546 - val_loss: 0.5032 - val_mean_squared_error: 0.5032\n",
      "Epoch 46/100\n",
      "659/659 [==============================] - 0s - loss: 0.8780 - mean_squared_error: 0.8780 - val_loss: 0.4688 - val_mean_squared_error: 0.4688\n",
      "Epoch 47/100\n",
      "659/659 [==============================] - 0s - loss: 0.8765 - mean_squared_error: 0.8765 - val_loss: 0.4753 - val_mean_squared_error: 0.4753\n",
      "Epoch 48/100\n",
      "659/659 [==============================] - 0s - loss: 0.8466 - mean_squared_error: 0.8466 - val_loss: 0.5119 - val_mean_squared_error: 0.5119\n",
      "Epoch 49/100\n",
      "659/659 [==============================] - 0s - loss: 0.7532 - mean_squared_error: 0.7532 - val_loss: 0.4724 - val_mean_squared_error: 0.4724\n",
      "Epoch 50/100\n",
      "659/659 [==============================] - 0s - loss: 0.7836 - mean_squared_error: 0.7836 - val_loss: 0.4999 - val_mean_squared_error: 0.4999\n",
      "Epoch 51/100\n",
      "659/659 [==============================] - 0s - loss: 0.7099 - mean_squared_error: 0.7099 - val_loss: 0.5039 - val_mean_squared_error: 0.5039\n",
      "Epoch 52/100\n",
      "659/659 [==============================] - 0s - loss: 0.6970 - mean_squared_error: 0.6970 - val_loss: 0.5255 - val_mean_squared_error: 0.5255\n",
      "Epoch 53/100\n"
     ]
    },
    {
     "name": "stdout",
     "output_type": "stream",
     "text": [
      "659/659 [==============================] - 0s - loss: 0.7607 - mean_squared_error: 0.7607 - val_loss: 0.4845 - val_mean_squared_error: 0.4845\n",
      "Epoch 54/100\n",
      "659/659 [==============================] - 0s - loss: 0.6915 - mean_squared_error: 0.6915 - val_loss: 0.4927 - val_mean_squared_error: 0.4927\n",
      "Epoch 55/100\n",
      "659/659 [==============================] - 0s - loss: 0.7722 - mean_squared_error: 0.7722 - val_loss: 0.4753 - val_mean_squared_error: 0.4753\n",
      "Epoch 56/100\n",
      "659/659 [==============================] - 0s - loss: 0.7903 - mean_squared_error: 0.7903 - val_loss: 0.4838 - val_mean_squared_error: 0.4838\n",
      "Epoch 57/100\n",
      "659/659 [==============================] - 0s - loss: 0.7805 - mean_squared_error: 0.7805 - val_loss: 0.4782 - val_mean_squared_error: 0.4782\n",
      "Epoch 58/100\n",
      "659/659 [==============================] - 0s - loss: 0.7628 - mean_squared_error: 0.7628 - val_loss: 0.4607 - val_mean_squared_error: 0.4607\n",
      "Epoch 59/100\n",
      "659/659 [==============================] - 0s - loss: 0.7468 - mean_squared_error: 0.7468 - val_loss: 0.4736 - val_mean_squared_error: 0.4736\n",
      "Epoch 60/100\n",
      "659/659 [==============================] - 0s - loss: 0.7398 - mean_squared_error: 0.7398 - val_loss: 0.4635 - val_mean_squared_error: 0.4635\n",
      "Epoch 61/100\n",
      "659/659 [==============================] - 0s - loss: 0.6896 - mean_squared_error: 0.6896 - val_loss: 0.4722 - val_mean_squared_error: 0.4722\n",
      "Epoch 62/100\n",
      "659/659 [==============================] - 0s - loss: 0.6804 - mean_squared_error: 0.6804 - val_loss: 0.4475 - val_mean_squared_error: 0.4475\n",
      "Epoch 63/100\n",
      "659/659 [==============================] - 0s - loss: 0.7005 - mean_squared_error: 0.7005 - val_loss: 0.4703 - val_mean_squared_error: 0.4703\n",
      "Epoch 64/100\n",
      "659/659 [==============================] - 0s - loss: 0.6893 - mean_squared_error: 0.6893 - val_loss: 0.4730 - val_mean_squared_error: 0.4730\n",
      "Epoch 65/100\n",
      "659/659 [==============================] - 0s - loss: 0.7863 - mean_squared_error: 0.7863 - val_loss: 0.4515 - val_mean_squared_error: 0.4515\n",
      "Epoch 66/100\n",
      "659/659 [==============================] - 0s - loss: 0.6862 - mean_squared_error: 0.6862 - val_loss: 0.4900 - val_mean_squared_error: 0.4900\n",
      "Epoch 67/100\n",
      "659/659 [==============================] - 0s - loss: 0.6069 - mean_squared_error: 0.6069 - val_loss: 0.4858 - val_mean_squared_error: 0.4858\n",
      "Epoch 68/100\n",
      "659/659 [==============================] - 0s - loss: 0.7278 - mean_squared_error: 0.7278 - val_loss: 0.4607 - val_mean_squared_error: 0.4607\n",
      "Epoch 69/100\n",
      "659/659 [==============================] - 0s - loss: 0.6551 - mean_squared_error: 0.6551 - val_loss: 0.4815 - val_mean_squared_error: 0.4815\n",
      "Epoch 70/100\n",
      "659/659 [==============================] - 0s - loss: 0.6979 - mean_squared_error: 0.6979 - val_loss: 0.4584 - val_mean_squared_error: 0.4584\n",
      "Epoch 71/100\n",
      "659/659 [==============================] - 0s - loss: 0.7687 - mean_squared_error: 0.7687 - val_loss: 0.4556 - val_mean_squared_error: 0.4556\n",
      "Epoch 72/100\n",
      "659/659 [==============================] - 0s - loss: 0.6507 - mean_squared_error: 0.6507 - val_loss: 0.4722 - val_mean_squared_error: 0.4722\n",
      "Epoch 73/100\n",
      "659/659 [==============================] - 0s - loss: 0.6967 - mean_squared_error: 0.6967 - val_loss: 0.4462 - val_mean_squared_error: 0.4462\n",
      "Epoch 74/100\n",
      "659/659 [==============================] - 0s - loss: 0.7072 - mean_squared_error: 0.7072 - val_loss: 0.4577 - val_mean_squared_error: 0.4577\n",
      "Epoch 75/100\n",
      "659/659 [==============================] - 0s - loss: 0.6469 - mean_squared_error: 0.6469 - val_loss: 0.4590 - val_mean_squared_error: 0.4590\n",
      "Epoch 76/100\n",
      "659/659 [==============================] - 0s - loss: 0.6758 - mean_squared_error: 0.6758 - val_loss: 0.4538 - val_mean_squared_error: 0.4538\n",
      "Epoch 77/100\n",
      "659/659 [==============================] - 0s - loss: 0.6965 - mean_squared_error: 0.6965 - val_loss: 0.4580 - val_mean_squared_error: 0.4580\n",
      "Epoch 78/100\n",
      "659/659 [==============================] - 0s - loss: 0.6729 - mean_squared_error: 0.6729 - val_loss: 0.4487 - val_mean_squared_error: 0.4487\n",
      "Epoch 79/100\n",
      "659/659 [==============================] - 0s - loss: 0.6329 - mean_squared_error: 0.6329 - val_loss: 0.4301 - val_mean_squared_error: 0.4301\n",
      "Epoch 80/100\n",
      "659/659 [==============================] - 0s - loss: 0.7180 - mean_squared_error: 0.7180 - val_loss: 0.4350 - val_mean_squared_error: 0.4350\n",
      "Epoch 81/100\n",
      "659/659 [==============================] - 0s - loss: 0.6352 - mean_squared_error: 0.6352 - val_loss: 0.4550 - val_mean_squared_error: 0.4550\n",
      "Epoch 82/100\n",
      "659/659 [==============================] - 0s - loss: 0.6460 - mean_squared_error: 0.6460 - val_loss: 0.4488 - val_mean_squared_error: 0.4488\n",
      "Epoch 83/100\n",
      "659/659 [==============================] - 0s - loss: 0.6898 - mean_squared_error: 0.6898 - val_loss: 0.4352 - val_mean_squared_error: 0.4352\n",
      "Epoch 84/100\n",
      "659/659 [==============================] - 0s - loss: 0.6157 - mean_squared_error: 0.6157 - val_loss: 0.4464 - val_mean_squared_error: 0.4464\n",
      "Epoch 85/100\n",
      "659/659 [==============================] - 0s - loss: 0.5829 - mean_squared_error: 0.5829 - val_loss: 0.4564 - val_mean_squared_error: 0.4564\n",
      "Epoch 86/100\n",
      "659/659 [==============================] - 0s - loss: 0.6099 - mean_squared_error: 0.6099 - val_loss: 0.4494 - val_mean_squared_error: 0.4494\n",
      "Epoch 87/100\n",
      "659/659 [==============================] - 0s - loss: 0.6543 - mean_squared_error: 0.6543 - val_loss: 0.4415 - val_mean_squared_error: 0.4415\n",
      "Epoch 88/100\n",
      "659/659 [==============================] - 0s - loss: 0.6396 - mean_squared_error: 0.6396 - val_loss: 0.4577 - val_mean_squared_error: 0.4577\n",
      "Epoch 89/100\n",
      "659/659 [==============================] - 0s - loss: 0.6065 - mean_squared_error: 0.6065 - val_loss: 0.4338 - val_mean_squared_error: 0.4338\n",
      "Epoch 90/100\n",
      "659/659 [==============================] - 0s - loss: 0.6975 - mean_squared_error: 0.6975 - val_loss: 0.4401 - val_mean_squared_error: 0.4401\n",
      "Epoch 91/100\n",
      "659/659 [==============================] - 0s - loss: 0.6382 - mean_squared_error: 0.6382 - val_loss: 0.4454 - val_mean_squared_error: 0.4454\n",
      "Epoch 92/100\n",
      "659/659 [==============================] - 0s - loss: 0.6751 - mean_squared_error: 0.6751 - val_loss: 0.4713 - val_mean_squared_error: 0.4713\n",
      "Epoch 93/100\n",
      "659/659 [==============================] - 0s - loss: 0.5838 - mean_squared_error: 0.5838 - val_loss: 0.4438 - val_mean_squared_error: 0.4438\n",
      "Epoch 94/100\n",
      "659/659 [==============================] - 0s - loss: 0.6662 - mean_squared_error: 0.6662 - val_loss: 0.4691 - val_mean_squared_error: 0.4691\n",
      "Epoch 95/100\n",
      "659/659 [==============================] - 0s - loss: 0.5854 - mean_squared_error: 0.5854 - val_loss: 0.4595 - val_mean_squared_error: 0.4595\n",
      "Epoch 96/100\n",
      "659/659 [==============================] - 0s - loss: 0.6468 - mean_squared_error: 0.6468 - val_loss: 0.4390 - val_mean_squared_error: 0.4390\n",
      "Epoch 97/100\n",
      "659/659 [==============================] - 0s - loss: 0.5916 - mean_squared_error: 0.5916 - val_loss: 0.4652 - val_mean_squared_error: 0.4652\n",
      "Epoch 98/100\n",
      "659/659 [==============================] - 0s - loss: 0.6189 - mean_squared_error: 0.6189 - val_loss: 0.4572 - val_mean_squared_error: 0.4572\n",
      "Epoch 99/100\n",
      "659/659 [==============================] - 0s - loss: 0.6759 - mean_squared_error: 0.6759 - val_loss: 0.4467 - val_mean_squared_error: 0.4467\n",
      "Epoch 100/100\n",
      "659/659 [==============================] - 0s - loss: 0.5908 - mean_squared_error: 0.5908 - val_loss: 0.4396 - val_mean_squared_error: 0.4396\n"
     ]
    },
    {
     "data": {
      "text/plain": [
       "<keras.callbacks.History at 0x2b4ca4dbdb00>"
      ]
     },
     "execution_count": 17,
     "metadata": {},
     "output_type": "execute_result"
    }
   ],
   "source": [
    "model.fit(train_features, train_labels, epochs=100, batch_size=32,shuffle=True,\n",
    "                validation_data=(test_features, test_labels))"
   ]
  },
  {
   "cell_type": "code",
   "execution_count": 18,
   "metadata": {},
   "outputs": [
    {
     "ename": "NameError",
     "evalue": "name 'test_predict' is not defined",
     "output_type": "error",
     "traceback": [
      "\u001b[0;31m---------------------------------------------------------------------------\u001b[0m",
      "\u001b[0;31mNameError\u001b[0m                                 Traceback (most recent call last)",
      "\u001b[0;32m<ipython-input-18-527ba9c83881>\u001b[0m in \u001b[0;36m<module>\u001b[0;34m()\u001b[0m\n\u001b[0;32m----> 1\u001b[0;31m \u001b[0mtype\u001b[0m\u001b[0;34m(\u001b[0m\u001b[0mtest_predict\u001b[0m\u001b[0;34m)\u001b[0m\u001b[0;34m,\u001b[0m\u001b[0mtype\u001b[0m\u001b[0;34m(\u001b[0m\u001b[0mtest_labels\u001b[0m\u001b[0;34m[\u001b[0m\u001b[0;36m1\u001b[0m\u001b[0;34m]\u001b[0m\u001b[0;34m)\u001b[0m\u001b[0;34m\u001b[0m\u001b[0m\n\u001b[0m",
      "\u001b[0;31mNameError\u001b[0m: name 'test_predict' is not defined"
     ]
    }
   ],
   "source": [
    "type(test_predict),type(test_labels[1])"
   ]
  },
  {
   "cell_type": "code",
   "execution_count": 19,
   "metadata": {},
   "outputs": [
    {
     "name": "stdout",
     "output_type": "stream",
     "text": [
      "100\n",
      "0.500847115178\n"
     ]
    }
   ],
   "source": [
    "from sklearn.metrics import mean_squared_error\n",
    "\n",
    "test_predict = []\n",
    "test_labels_2=[]\n",
    "for i in range(100):\n",
    "    if data_test[i].logMstar!=-99:\n",
    "        test_predict.append(model.predict(test_features[i].reshape(1,-1))[0][0])\n",
    "        test_labels_2.append(test_labels[i])\n",
    "print(len(test_predict))\n",
    "print(np.sqrt(mean_squared_error(np.asarray(test_predict), np.asarray(test_labels_2))))\n"
   ]
  },
  {
   "cell_type": "code",
   "execution_count": 20,
   "metadata": {},
   "outputs": [
    {
     "data": {
      "text/plain": [
       "[10.39009,\n",
       " 10.596516,\n",
       " 9.9460144,\n",
       " 10.875796,\n",
       " 10.110703,\n",
       " 10.915573,\n",
       " 10.301353,\n",
       " 10.591532,\n",
       " 10.894402,\n",
       " 10.720873,\n",
       " 10.899636,\n",
       " 9.1435261,\n",
       " 10.378956,\n",
       " 10.841615,\n",
       " 10.126148,\n",
       " 10.12937,\n",
       " 9.6394634,\n",
       " 10.31321,\n",
       " 10.862532,\n",
       " 10.886653,\n",
       " 10.855471,\n",
       " 10.354572,\n",
       " 10.186045,\n",
       " 10.895294,\n",
       " 10.600686,\n",
       " 10.567462,\n",
       " 10.682447,\n",
       " 10.368379,\n",
       " 10.640563,\n",
       " 10.776237,\n",
       " 10.888296,\n",
       " 9.9669533,\n",
       " 10.897311,\n",
       " 10.877956,\n",
       " 10.827045,\n",
       " 10.79487,\n",
       " 10.133039,\n",
       " 10.750184,\n",
       " 10.898733,\n",
       " 10.206895,\n",
       " 10.529582,\n",
       " 10.786904,\n",
       " 10.894168,\n",
       " 9.9745655,\n",
       " 10.766259,\n",
       " 10.832606,\n",
       " 10.703841,\n",
       " 9.8225679,\n",
       " 10.138071,\n",
       " 10.70086,\n",
       " 10.219549,\n",
       " 10.151847,\n",
       " 10.884804,\n",
       " 10.104679,\n",
       " 10.856207,\n",
       " 10.771027,\n",
       " 10.190756,\n",
       " 10.825233,\n",
       " 10.113098,\n",
       " 10.783353,\n",
       " 10.853107,\n",
       " 10.671546,\n",
       " 10.835136,\n",
       " 10.299541,\n",
       " 10.927578,\n",
       " 10.904915,\n",
       " 10.892394,\n",
       " 10.851261,\n",
       " 10.973289,\n",
       " 9.4683981,\n",
       " 10.814553,\n",
       " 10.770698,\n",
       " 9.712779,\n",
       " 10.352628,\n",
       " 9.7199116,\n",
       " 10.569611,\n",
       " 10.654953,\n",
       " 10.955105,\n",
       " 10.611215,\n",
       " 10.915396,\n",
       " 10.728649,\n",
       " 10.986729,\n",
       " 10.283662,\n",
       " 10.777243,\n",
       " 10.924784,\n",
       " 10.9017,\n",
       " 10.233704,\n",
       " 10.695636,\n",
       " 10.717103,\n",
       " 10.83286,\n",
       " 10.893654,\n",
       " 10.874763,\n",
       " 10.777837,\n",
       " 10.820947,\n",
       " 10.45491,\n",
       " 10.757373,\n",
       " 10.591692,\n",
       " 10.398806,\n",
       " 10.748442,\n",
       " 10.893724]"
      ]
     },
     "execution_count": 20,
     "metadata": {},
     "output_type": "execute_result"
    }
   ],
   "source": [
    "test_predict"
   ]
  }
 ],
 "metadata": {
  "kernelspec": {
   "display_name": "Python 3",
   "language": "python",
   "name": "python3"
  },
  "language_info": {
   "codemirror_mode": {
    "name": "ipython",
    "version": 3
   },
   "file_extension": ".py",
   "mimetype": "text/x-python",
   "name": "python",
   "nbconvert_exporter": "python",
   "pygments_lexer": "ipython3",
   "version": "3.6.1"
  }
 },
 "nbformat": 4,
 "nbformat_minor": 2
}
